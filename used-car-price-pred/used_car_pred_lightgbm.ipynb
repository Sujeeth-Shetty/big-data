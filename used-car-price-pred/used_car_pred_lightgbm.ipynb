{
  "nbformat": 4,
  "nbformat_minor": 0,
  "metadata": {
    "colab": {
      "name": "used-car-pred-lightgbm.ipynb",
      "provenance": [],
      "collapsed_sections": []
    },
    "kernelspec": {
      "name": "python3",
      "display_name": "Python 3"
    },
    "language_info": {
      "name": "python"
    }
  },
  "cells": [
    {
      "cell_type": "code",
      "metadata": {
        "id": "U79VamIOycHw"
      },
      "source": [
        "import numpy as np # linear algebra\n",
        "import pandas as pd # data processing, CSV file I/O (e.g. pd.read_csv)\n",
        "import lightgbm as lgbm\n",
        "from sklearn.model_selection import train_test_split\n",
        "from sklearn.preprocessing import LabelEncoder, StandardScaler,minmax_scale\n",
        "from sklearn import metrics\n",
        "import matplotlib\n",
        "import matplotlib.pyplot as plt "
      ],
      "execution_count": 36,
      "outputs": []
    },
    {
      "cell_type": "code",
      "metadata": {
        "id": "zgDTULZeyoJq"
      },
      "source": [
        "df=pd.read_csv(\"vehicles_model_ready_data.csv\")"
      ],
      "execution_count": 25,
      "outputs": []
    },
    {
      "cell_type": "code",
      "metadata": {
        "id": "3STY1tWKyoMQ"
      },
      "source": [
        "df=df.drop(['Unnamed: 0','paint_encoded'], axis=1)"
      ],
      "execution_count": 26,
      "outputs": []
    },
    {
      "cell_type": "code",
      "metadata": {
        "id": "3etIpmz-04PX"
      },
      "source": [
        "#col_cat=['manufacturer','model']\n",
        "#le = LabelEncoder()\n",
        "#for col in col_cat:\n",
        "#    df[col] = le.fit_transform(df[col])"
      ],
      "execution_count": 27,
      "outputs": []
    },
    {
      "cell_type": "code",
      "metadata": {
        "id": "ct34UAzXyoPD"
      },
      "source": [
        "#convert columns to categorical\n",
        "col_cat=['manufacturer','model','fuel_diesel','fuel_electric','fuel_gas','fuel_hybrid','fuel_other','transmission_automatic', \t'transmission_manual', \t'transmission_other'  ,\t'drive_4wd' ,\t'drive_fwd' ,\t'drive_rwd'  ,\t'type_SUV' ,\t'type_bus', \t'type_convertible' ,\t'type_coupe' ,\t'type_hatchback' ,\t'type_mini-van', \t'type_offroad' ,\t'type_other' ,\t'type_pickup' ,\t'type_sedan' ,\t'type_truck' \t,'type_van' ,\t'type_wagon']\n",
        "for col in col_cat:\n",
        "  df[col] = df[col].astype('category',copy=False)"
      ],
      "execution_count": 28,
      "outputs": []
    },
    {
      "cell_type": "code",
      "metadata": {
        "colab": {
          "base_uri": "https://localhost:8080/"
        },
        "id": "F3Nyn5vzyoRp",
        "outputId": "33370a93-a064-418d-820f-bbf58cf3952e"
      },
      "source": [
        "df.info()"
      ],
      "execution_count": 29,
      "outputs": [
        {
          "output_type": "stream",
          "text": [
            "<class 'pandas.core.frame.DataFrame'>\n",
            "RangeIndex: 81424 entries, 0 to 81423\n",
            "Data columns (total 33 columns):\n",
            " #   Column                  Non-Null Count  Dtype   \n",
            "---  ------                  --------------  -----   \n",
            " 0   price                   81424 non-null  int64   \n",
            " 1   manufacturer            81424 non-null  category\n",
            " 2   model                   81424 non-null  category\n",
            " 3   condition               81424 non-null  float64 \n",
            " 4   cylinders               81424 non-null  float64 \n",
            " 5   odometer                81424 non-null  float64 \n",
            " 6   title_status            81424 non-null  float64 \n",
            " 7   age                     81424 non-null  float64 \n",
            " 8   region_enc              81424 non-null  float64 \n",
            " 9   fuel_diesel             81424 non-null  category\n",
            " 10  fuel_electric           81424 non-null  category\n",
            " 11  fuel_gas                81424 non-null  category\n",
            " 12  fuel_hybrid             81424 non-null  category\n",
            " 13  fuel_other              81424 non-null  category\n",
            " 14  transmission_automatic  81424 non-null  category\n",
            " 15  transmission_manual     81424 non-null  category\n",
            " 16  transmission_other      81424 non-null  category\n",
            " 17  drive_4wd               81424 non-null  category\n",
            " 18  drive_fwd               81424 non-null  category\n",
            " 19  drive_rwd               81424 non-null  category\n",
            " 20  type_SUV                81424 non-null  category\n",
            " 21  type_bus                81424 non-null  category\n",
            " 22  type_convertible        81424 non-null  category\n",
            " 23  type_coupe              81424 non-null  category\n",
            " 24  type_hatchback          81424 non-null  category\n",
            " 25  type_mini-van           81424 non-null  category\n",
            " 26  type_offroad            81424 non-null  category\n",
            " 27  type_other              81424 non-null  category\n",
            " 28  type_pickup             81424 non-null  category\n",
            " 29  type_sedan              81424 non-null  category\n",
            " 30  type_truck              81424 non-null  category\n",
            " 31  type_van                81424 non-null  category\n",
            " 32  type_wagon              81424 non-null  category\n",
            "dtypes: category(26), float64(6), int64(1)\n",
            "memory usage: 6.8 MB\n"
          ],
          "name": "stdout"
        }
      ]
    },
    {
      "cell_type": "code",
      "metadata": {
        "id": "oRwOOKZ8yoUk"
      },
      "source": [
        "df[\"odometer\"] = np.sqrt(minmax_scale(df[\"odometer\"]))"
      ],
      "execution_count": 30,
      "outputs": []
    },
    {
      "cell_type": "code",
      "metadata": {
        "id": "JTTNAzzqyync"
      },
      "source": [
        "X=df.loc[:, ~df.columns.isin(['price'])]\n",
        "y=df[\"price\"]"
      ],
      "execution_count": 31,
      "outputs": []
    },
    {
      "cell_type": "code",
      "metadata": {
        "id": "xKdItxzxyyqS"
      },
      "source": [
        "X_train, X_test, y_train, y_test = train_test_split(X,y, \n",
        "                                                    test_size=0.1, \n",
        "                                                    random_state=1)"
      ],
      "execution_count": 32,
      "outputs": []
    },
    {
      "cell_type": "code",
      "metadata": {
        "colab": {
          "base_uri": "https://localhost:8080/"
        },
        "id": "ZGeogH4Vyysw",
        "outputId": "4aba29cf-6d6e-44cf-c5ab-82943fab4287"
      },
      "source": [
        "lgbm_base = lgbm.LGBMRegressor( boosting_type= 'gbdt',\n",
        "          objective= 'regression')\n",
        "lgbm_base.fit(X_train, y_train)"
      ],
      "execution_count": 33,
      "outputs": [
        {
          "output_type": "execute_result",
          "data": {
            "text/plain": [
              "LGBMRegressor(boosting_type='gbdt', class_weight=None, colsample_bytree=1.0,\n",
              "              importance_type='split', learning_rate=0.1, max_depth=-1,\n",
              "              min_child_samples=20, min_child_weight=0.001, min_split_gain=0.0,\n",
              "              n_estimators=100, n_jobs=-1, num_leaves=31,\n",
              "              objective='regression', random_state=None, reg_alpha=0.0,\n",
              "              reg_lambda=0.0, silent=True, subsample=1.0,\n",
              "              subsample_for_bin=200000, subsample_freq=0)"
            ]
          },
          "metadata": {
            "tags": []
          },
          "execution_count": 33
        }
      ]
    },
    {
      "cell_type": "code",
      "metadata": {
        "id": "IarSiYHv0Od1"
      },
      "source": [
        "lgbm_base_pred=lgbm_base.predict(X_test)"
      ],
      "execution_count": 34,
      "outputs": []
    },
    {
      "cell_type": "code",
      "metadata": {
        "colab": {
          "base_uri": "https://localhost:8080/"
        },
        "id": "1seq2EIKyyvb",
        "outputId": "735ee1e8-4807-4c51-b891-394f33986598"
      },
      "source": [
        "print('Mean Absolute Error:', metrics.mean_absolute_error(y_test, lgbm_base_pred))\n",
        "print('Mean Squared Error:', metrics.mean_squared_error(y_test, lgbm_base_pred))\n",
        "print('Root Mean Squared Error:', np.sqrt(metrics.mean_squared_error(y_test, lgbm_base_pred)))\n",
        "print('R2: ',metrics.r2_score(y_test, lgbm_base_pred))"
      ],
      "execution_count": 37,
      "outputs": [
        {
          "output_type": "stream",
          "text": [
            "Mean Absolute Error: 1446.8984910428094\n",
            "Mean Squared Error: 5106361.933806228\n",
            "Root Mean Squared Error: 2259.7260749494017\n",
            "R2:  0.9481439024138041\n"
          ],
          "name": "stdout"
        }
      ]
    },
    {
      "cell_type": "code",
      "metadata": {
        "id": "0xjENiTDyyyf"
      },
      "source": [
        "fscores = []\n",
        "\n",
        "for score in lgbm_base.feature_importances_:\n",
        "    fscores.append( score * 1000000 )"
      ],
      "execution_count": null,
      "outputs": []
    },
    {
      "cell_type": "code",
      "metadata": {
        "id": "rAg1o6zRh7L7"
      },
      "source": [
        "index_columns = X.columns\n",
        "\n",
        "coef = pd.Series( fscores, index = index_columns )\n",
        "\n",
        "imp_coef = coef.sort_values()"
      ],
      "execution_count": null,
      "outputs": []
    },
    {
      "cell_type": "code",
      "metadata": {
        "id": "UkzwHsoUh7Rz"
      },
      "source": [
        "matplotlib.rcParams['figure.figsize'] = (20, 10)\n",
        "\n",
        "ax = imp_coef.plot( kind = \"barh\" )\n",
        "ax.set_ylabel('',fontdict={'fontsize':4})\n",
        "plt.title( \"Feature importance using Catboost Regression Model\" )\n",
        "#plt.savefig('/home/ubuntu/01-Nuera/charts/XGBoost_Tuned_Features_Importance.jpg')\n",
        "plt.show()"
      ],
      "execution_count": null,
      "outputs": []
    },
    {
      "cell_type": "code",
      "metadata": {
        "id": "YjSKBmPeh7V5"
      },
      "source": [
        ""
      ],
      "execution_count": null,
      "outputs": []
    }
  ]
}