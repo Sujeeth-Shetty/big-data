{
  "nbformat": 4,
  "nbformat_minor": 0,
  "metadata": {
    "colab": {
      "name": "used-car-pred-rf.ipynb",
      "provenance": [],
      "collapsed_sections": []
    },
    "kernelspec": {
      "name": "python3",
      "display_name": "Python 3"
    },
    "language_info": {
      "name": "python"
    }
  },
  "cells": [
    {
      "cell_type": "code",
      "metadata": {
        "id": "oSyYnTFtqx19"
      },
      "source": [
        "import numpy as np # linear algebra\n",
        "import pandas as pd # data processing, CSV file I/O (e.g. pd.read_csv)\n",
        "from sklearn.ensemble import RandomForestRegressor\n",
        "from sklearn.model_selection import train_test_split\n",
        "from sklearn.preprocessing import LabelEncoder, StandardScaler\n",
        "from sklearn.metrics import r2_score\n",
        "import matplotlib\n",
        "import matplotlib.pyplot as plt \n",
        "# Input data files are available in the read-only \"../input/\" directory\n",
        "# For example, running this (by clicking run or pressing Shift+Enter) will list all files under the input directory\n"
      ],
      "execution_count": 1,
      "outputs": []
    },
    {
      "cell_type": "code",
      "metadata": {
        "id": "dOXa1BDIq2QG"
      },
      "source": [
        "df=pd.read_csv(\"vehicles_model_ready_data.csv\")"
      ],
      "execution_count": 33,
      "outputs": []
    },
    {
      "cell_type": "code",
      "metadata": {
        "id": "9zAFFAUPq2wx"
      },
      "source": [
        "df=df.drop(['Unnamed: 0','paint_encoded'], axis=1)"
      ],
      "execution_count": 34,
      "outputs": []
    },
    {
      "cell_type": "code",
      "metadata": {
        "colab": {
          "base_uri": "https://localhost:8080/",
          "height": 261
        },
        "id": "KK4Czbpaq2zf",
        "outputId": "b70f65e4-c860-4548-d0d7-7c6d6bef9af0"
      },
      "source": [
        "df.head()"
      ],
      "execution_count": 35,
      "outputs": [
        {
          "output_type": "execute_result",
          "data": {
            "text/html": [
              "<div>\n",
              "<style scoped>\n",
              "    .dataframe tbody tr th:only-of-type {\n",
              "        vertical-align: middle;\n",
              "    }\n",
              "\n",
              "    .dataframe tbody tr th {\n",
              "        vertical-align: top;\n",
              "    }\n",
              "\n",
              "    .dataframe thead th {\n",
              "        text-align: right;\n",
              "    }\n",
              "</style>\n",
              "<table border=\"1\" class=\"dataframe\">\n",
              "  <thead>\n",
              "    <tr style=\"text-align: right;\">\n",
              "      <th></th>\n",
              "      <th>price</th>\n",
              "      <th>manufacturer</th>\n",
              "      <th>model</th>\n",
              "      <th>condition</th>\n",
              "      <th>cylinders</th>\n",
              "      <th>odometer</th>\n",
              "      <th>title_status</th>\n",
              "      <th>age</th>\n",
              "      <th>region_enc</th>\n",
              "      <th>fuel_diesel</th>\n",
              "      <th>fuel_electric</th>\n",
              "      <th>fuel_gas</th>\n",
              "      <th>fuel_hybrid</th>\n",
              "      <th>fuel_other</th>\n",
              "      <th>transmission_automatic</th>\n",
              "      <th>transmission_manual</th>\n",
              "      <th>transmission_other</th>\n",
              "      <th>drive_4wd</th>\n",
              "      <th>drive_fwd</th>\n",
              "      <th>drive_rwd</th>\n",
              "      <th>type_SUV</th>\n",
              "      <th>type_bus</th>\n",
              "      <th>type_convertible</th>\n",
              "      <th>type_coupe</th>\n",
              "      <th>type_hatchback</th>\n",
              "      <th>type_mini-van</th>\n",
              "      <th>type_offroad</th>\n",
              "      <th>type_other</th>\n",
              "      <th>type_pickup</th>\n",
              "      <th>type_sedan</th>\n",
              "      <th>type_truck</th>\n",
              "      <th>type_van</th>\n",
              "      <th>type_wagon</th>\n",
              "    </tr>\n",
              "  </thead>\n",
              "  <tbody>\n",
              "    <tr>\n",
              "      <th>0</th>\n",
              "      <td>6980</td>\n",
              "      <td>chrysler</td>\n",
              "      <td>town &amp; country</td>\n",
              "      <td>3.487271</td>\n",
              "      <td>6.000000</td>\n",
              "      <td>162472.0</td>\n",
              "      <td>4.885578</td>\n",
              "      <td>7.0</td>\n",
              "      <td>10178.496757</td>\n",
              "      <td>0</td>\n",
              "      <td>0</td>\n",
              "      <td>1</td>\n",
              "      <td>0</td>\n",
              "      <td>0</td>\n",
              "      <td>1</td>\n",
              "      <td>0</td>\n",
              "      <td>0</td>\n",
              "      <td>0</td>\n",
              "      <td>1</td>\n",
              "      <td>0</td>\n",
              "      <td>0</td>\n",
              "      <td>0</td>\n",
              "      <td>0</td>\n",
              "      <td>0</td>\n",
              "      <td>0</td>\n",
              "      <td>0</td>\n",
              "      <td>0</td>\n",
              "      <td>0</td>\n",
              "      <td>0</td>\n",
              "      <td>0</td>\n",
              "      <td>0</td>\n",
              "      <td>1</td>\n",
              "      <td>0</td>\n",
              "    </tr>\n",
              "    <tr>\n",
              "      <th>1</th>\n",
              "      <td>4000</td>\n",
              "      <td>nissan</td>\n",
              "      <td>murano</td>\n",
              "      <td>3.000000</td>\n",
              "      <td>6.000000</td>\n",
              "      <td>180.0</td>\n",
              "      <td>5.000000</td>\n",
              "      <td>13.0</td>\n",
              "      <td>13158.496757</td>\n",
              "      <td>0</td>\n",
              "      <td>0</td>\n",
              "      <td>1</td>\n",
              "      <td>0</td>\n",
              "      <td>0</td>\n",
              "      <td>1</td>\n",
              "      <td>0</td>\n",
              "      <td>0</td>\n",
              "      <td>1</td>\n",
              "      <td>0</td>\n",
              "      <td>0</td>\n",
              "      <td>1</td>\n",
              "      <td>0</td>\n",
              "      <td>0</td>\n",
              "      <td>0</td>\n",
              "      <td>0</td>\n",
              "      <td>0</td>\n",
              "      <td>0</td>\n",
              "      <td>0</td>\n",
              "      <td>0</td>\n",
              "      <td>0</td>\n",
              "      <td>0</td>\n",
              "      <td>0</td>\n",
              "      <td>0</td>\n",
              "    </tr>\n",
              "    <tr>\n",
              "      <th>2</th>\n",
              "      <td>3990</td>\n",
              "      <td>nissan</td>\n",
              "      <td>frontier</td>\n",
              "      <td>3.504679</td>\n",
              "      <td>4.000000</td>\n",
              "      <td>254691.0</td>\n",
              "      <td>5.000000</td>\n",
              "      <td>14.0</td>\n",
              "      <td>13168.496757</td>\n",
              "      <td>0</td>\n",
              "      <td>0</td>\n",
              "      <td>1</td>\n",
              "      <td>0</td>\n",
              "      <td>0</td>\n",
              "      <td>1</td>\n",
              "      <td>0</td>\n",
              "      <td>0</td>\n",
              "      <td>0</td>\n",
              "      <td>0</td>\n",
              "      <td>1</td>\n",
              "      <td>0</td>\n",
              "      <td>0</td>\n",
              "      <td>0</td>\n",
              "      <td>0</td>\n",
              "      <td>0</td>\n",
              "      <td>0</td>\n",
              "      <td>0</td>\n",
              "      <td>0</td>\n",
              "      <td>1</td>\n",
              "      <td>0</td>\n",
              "      <td>0</td>\n",
              "      <td>0</td>\n",
              "      <td>0</td>\n",
              "    </tr>\n",
              "    <tr>\n",
              "      <th>3</th>\n",
              "      <td>2250</td>\n",
              "      <td>acura</td>\n",
              "      <td>tl</td>\n",
              "      <td>3.514809</td>\n",
              "      <td>4.724351</td>\n",
              "      <td>180000.0</td>\n",
              "      <td>2.000000</td>\n",
              "      <td>14.0</td>\n",
              "      <td>14908.496757</td>\n",
              "      <td>0</td>\n",
              "      <td>0</td>\n",
              "      <td>1</td>\n",
              "      <td>0</td>\n",
              "      <td>0</td>\n",
              "      <td>1</td>\n",
              "      <td>0</td>\n",
              "      <td>0</td>\n",
              "      <td>0</td>\n",
              "      <td>0</td>\n",
              "      <td>0</td>\n",
              "      <td>0</td>\n",
              "      <td>0</td>\n",
              "      <td>0</td>\n",
              "      <td>0</td>\n",
              "      <td>0</td>\n",
              "      <td>0</td>\n",
              "      <td>0</td>\n",
              "      <td>0</td>\n",
              "      <td>0</td>\n",
              "      <td>0</td>\n",
              "      <td>0</td>\n",
              "      <td>0</td>\n",
              "      <td>0</td>\n",
              "    </tr>\n",
              "    <tr>\n",
              "      <th>4</th>\n",
              "      <td>25900</td>\n",
              "      <td>toyota</td>\n",
              "      <td>tundra</td>\n",
              "      <td>3.000000</td>\n",
              "      <td>8.000000</td>\n",
              "      <td>107690.0</td>\n",
              "      <td>5.000000</td>\n",
              "      <td>7.0</td>\n",
              "      <td>8741.503243</td>\n",
              "      <td>0</td>\n",
              "      <td>0</td>\n",
              "      <td>1</td>\n",
              "      <td>0</td>\n",
              "      <td>0</td>\n",
              "      <td>0</td>\n",
              "      <td>0</td>\n",
              "      <td>1</td>\n",
              "      <td>0</td>\n",
              "      <td>0</td>\n",
              "      <td>0</td>\n",
              "      <td>0</td>\n",
              "      <td>0</td>\n",
              "      <td>0</td>\n",
              "      <td>0</td>\n",
              "      <td>0</td>\n",
              "      <td>0</td>\n",
              "      <td>0</td>\n",
              "      <td>0</td>\n",
              "      <td>0</td>\n",
              "      <td>0</td>\n",
              "      <td>1</td>\n",
              "      <td>0</td>\n",
              "      <td>0</td>\n",
              "    </tr>\n",
              "  </tbody>\n",
              "</table>\n",
              "</div>"
            ],
            "text/plain": [
              "   price manufacturer           model  ...  type_truck  type_van  type_wagon\n",
              "0   6980     chrysler  town & country  ...           0         1           0\n",
              "1   4000       nissan          murano  ...           0         0           0\n",
              "2   3990       nissan        frontier  ...           0         0           0\n",
              "3   2250        acura              tl  ...           0         0           0\n",
              "4  25900       toyota          tundra  ...           1         0           0\n",
              "\n",
              "[5 rows x 33 columns]"
            ]
          },
          "metadata": {
            "tags": []
          },
          "execution_count": 35
        }
      ]
    },
    {
      "cell_type": "code",
      "metadata": {
        "id": "9fbr6zOEq22H"
      },
      "source": [
        "#convert columns to categorical\n",
        "#col_cat=['manufacturer','model','fuel_diesel','fuel_electric','fuel_gas','fuel_hybrid','fuel_other','transmission_automatic', \t'transmission_manual', \t'transmission_other'  ,\t'drive_4wd' ,\t'drive_fwd' ,\t'drive_rwd'  ,\t'type_SUV' ,\t'type_bus', \t'type_convertible' ,\t'type_coupe' ,\t'type_hatchback' ,\t'type_mini-van', \t'type_offroad' ,\t'type_other' ,\t'type_pickup' ,\t'type_sedan' ,\t'type_truck' \t,'type_van' ,\t'type_wagon']\n",
        "#for col in col_cat:\n",
        "#  df[col] = df[col].astype('category',copy=False)\n",
        "col_cat=['manufacturer','model']\n",
        "le = LabelEncoder()\n",
        "for col in col_cat:\n",
        "    df[col] = le.fit_transform(df[col])"
      ],
      "execution_count": 36,
      "outputs": []
    },
    {
      "cell_type": "code",
      "metadata": {
        "id": "gEENop4GwQSG"
      },
      "source": [
        "#convert columns to categorical\n",
        "col_cat=['manufacturer','model','fuel_diesel','fuel_electric','fuel_gas','fuel_hybrid','fuel_other','transmission_automatic', \t'transmission_manual', \t'transmission_other'  ,\t'drive_4wd' ,\t'drive_fwd' ,\t'drive_rwd'  ,\t'type_SUV' ,\t'type_bus', \t'type_convertible' ,\t'type_coupe' ,\t'type_hatchback' ,\t'type_mini-van', \t'type_offroad' ,\t'type_other' ,\t'type_pickup' ,\t'type_sedan' ,\t'type_truck' \t,'type_van' ,\t'type_wagon']\n",
        "for col in col_cat:\n",
        "  df[col] = df[col].astype('category',copy=False)"
      ],
      "execution_count": 37,
      "outputs": []
    },
    {
      "cell_type": "code",
      "metadata": {
        "colab": {
          "base_uri": "https://localhost:8080/"
        },
        "id": "N9qOBL3AskDy",
        "outputId": "3b4f3bf7-7a2d-4168-b7f8-36316c27a210"
      },
      "source": [
        "df.info()"
      ],
      "execution_count": 38,
      "outputs": [
        {
          "output_type": "stream",
          "text": [
            "<class 'pandas.core.frame.DataFrame'>\n",
            "RangeIndex: 81424 entries, 0 to 81423\n",
            "Data columns (total 33 columns):\n",
            " #   Column                  Non-Null Count  Dtype   \n",
            "---  ------                  --------------  -----   \n",
            " 0   price                   81424 non-null  int64   \n",
            " 1   manufacturer            81424 non-null  category\n",
            " 2   model                   81424 non-null  category\n",
            " 3   condition               81424 non-null  float64 \n",
            " 4   cylinders               81424 non-null  float64 \n",
            " 5   odometer                81424 non-null  float64 \n",
            " 6   title_status            81424 non-null  float64 \n",
            " 7   age                     81424 non-null  float64 \n",
            " 8   region_enc              81424 non-null  float64 \n",
            " 9   fuel_diesel             81424 non-null  category\n",
            " 10  fuel_electric           81424 non-null  category\n",
            " 11  fuel_gas                81424 non-null  category\n",
            " 12  fuel_hybrid             81424 non-null  category\n",
            " 13  fuel_other              81424 non-null  category\n",
            " 14  transmission_automatic  81424 non-null  category\n",
            " 15  transmission_manual     81424 non-null  category\n",
            " 16  transmission_other      81424 non-null  category\n",
            " 17  drive_4wd               81424 non-null  category\n",
            " 18  drive_fwd               81424 non-null  category\n",
            " 19  drive_rwd               81424 non-null  category\n",
            " 20  type_SUV                81424 non-null  category\n",
            " 21  type_bus                81424 non-null  category\n",
            " 22  type_convertible        81424 non-null  category\n",
            " 23  type_coupe              81424 non-null  category\n",
            " 24  type_hatchback          81424 non-null  category\n",
            " 25  type_mini-van           81424 non-null  category\n",
            " 26  type_offroad            81424 non-null  category\n",
            " 27  type_other              81424 non-null  category\n",
            " 28  type_pickup             81424 non-null  category\n",
            " 29  type_sedan              81424 non-null  category\n",
            " 30  type_truck              81424 non-null  category\n",
            " 31  type_van                81424 non-null  category\n",
            " 32  type_wagon              81424 non-null  category\n",
            "dtypes: category(26), float64(6), int64(1)\n",
            "memory usage: 6.8 MB\n"
          ],
          "name": "stdout"
        }
      ]
    },
    {
      "cell_type": "code",
      "metadata": {
        "id": "YoV1MYocszhY"
      },
      "source": [
        "df[\"odometer\"] = np.sqrt(preprocessing.minmax_scale(df[\"odometer\"]))"
      ],
      "execution_count": 39,
      "outputs": []
    },
    {
      "cell_type": "code",
      "metadata": {
        "id": "PCbyxPLes3ND"
      },
      "source": [
        "X=df.loc[:, ~df.columns.isin(['price'])]\n",
        "y=df[\"price\"]"
      ],
      "execution_count": 40,
      "outputs": []
    },
    {
      "cell_type": "code",
      "metadata": {
        "id": "mOh0pRvctB6w"
      },
      "source": [
        "X_train, X_test, y_train, y_test = train_test_split(X,y, \n",
        "                                                    test_size=0.1, \n",
        "                                                    random_state=1)"
      ],
      "execution_count": 41,
      "outputs": []
    },
    {
      "cell_type": "code",
      "metadata": {
        "id": "iutYFScvtGiE"
      },
      "source": [
        "rf = RandomForestRegressor(n_estimators = 100,random_state=1).fit(X_train, y_train.values.ravel())\n",
        "rf_pred = rf.predict(X_test)"
      ],
      "execution_count": 42,
      "outputs": []
    },
    {
      "cell_type": "code",
      "metadata": {
        "colab": {
          "base_uri": "https://localhost:8080/"
        },
        "id": "J2lJ2S-ztPdO",
        "outputId": "745df9b2-7891-4cca-c684-707eafa3da6a"
      },
      "source": [
        "print('Mean Absolute Error:', metrics.mean_absolute_error(y_test, rf_pred))\n",
        "print('Mean Squared Error:', metrics.mean_squared_error(y_test, rf_pred))\n",
        "print('Root Mean Squared Error:', np.sqrt(metrics.mean_squared_error(y_test, rf_pred)))\n",
        "print('R2: ',r2_score(y_test, rf_pred))"
      ],
      "execution_count": 43,
      "outputs": [
        {
          "output_type": "stream",
          "text": [
            "Mean Absolute Error: 989.2179835441483\n",
            "Mean Squared Error: 4327773.8629678255\n",
            "Root Mean Squared Error: 2080.330229306834\n",
            "R2:  0.9560506155501268\n"
          ],
          "name": "stdout"
        }
      ]
    },
    {
      "cell_type": "code",
      "metadata": {
        "id": "y0YQ9bh-xs_o"
      },
      "source": [
        "fscores = []\n",
        "\n",
        "for score in rf.feature_importances_:\n",
        "    fscores.append( score * 1000000 )"
      ],
      "execution_count": null,
      "outputs": []
    },
    {
      "cell_type": "code",
      "metadata": {
        "id": "tBZdXywRiD7f"
      },
      "source": [
        "index_columns = X.columns\n",
        "\n",
        "coef = pd.Series( fscores, index = index_columns )\n",
        "\n",
        "imp_coef = coef.sort_values()"
      ],
      "execution_count": null,
      "outputs": []
    },
    {
      "cell_type": "code",
      "metadata": {
        "id": "WYjs1ccwiD_W"
      },
      "source": [
        "matplotlib.rcParams['figure.figsize'] = (20, 10)\n",
        "\n",
        "ax = imp_coef.plot( kind = \"barh\" )\n",
        "ax.set_ylabel('',fontdict={'fontsize':4})\n",
        "plt.title( \"Feature importance using Catboost Regression Model\" )\n",
        "#plt.savefig('/home/ubuntu/01-Nuera/charts/XGBoost_Tuned_Features_Importance.jpg')\n",
        "plt.show()"
      ],
      "execution_count": null,
      "outputs": []
    },
    {
      "cell_type": "code",
      "metadata": {
        "id": "f52r_7-HiEBl"
      },
      "source": [
        ""
      ],
      "execution_count": null,
      "outputs": []
    }
  ]
}